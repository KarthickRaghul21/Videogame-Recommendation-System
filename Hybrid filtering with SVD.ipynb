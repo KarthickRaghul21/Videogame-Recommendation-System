{
 "cells": [
  {
   "cell_type": "code",
   "execution_count": 37,
   "id": "d49c257c",
   "metadata": {},
   "outputs": [],
   "source": [
    "import pandas as pd\n",
    "import numpy as np\n",
    "from matplotlib import pyplot as plt\n",
    "import seaborn as sns\n",
    "import difflib\n",
    "from sklearn import linear_model\n",
    "from sklearn.feature_extraction.text import TfidfVectorizer\n",
    "from sklearn.metrics.pairwise import cosine_similarity\n",
    "from sklearn.metrics.pairwise import linear_kernel\n",
    "from sklearn.feature_extraction.text import CountVectorizer\n",
    "from surprise import Reader, Dataset\n",
    "from surprise import SVD\n",
    "from surprise import accuracy\n",
    "from surprise.model_selection import train_test_split"
   ]
  },
  {
   "cell_type": "code",
   "execution_count": 38,
   "id": "14616819",
   "metadata": {},
   "outputs": [],
   "source": [
    "df = pd.read_excel(r'C:\\4) Fourth Year\\Capstone\\Game analysis Dataset\\Metacritic Data\\Video_Game_Sales.xlsx')"
   ]
  },
  {
   "cell_type": "code",
   "execution_count": 39,
   "id": "f4306ef0",
   "metadata": {},
   "outputs": [
    {
     "data": {
      "text/html": [
       "<div>\n",
       "<style scoped>\n",
       "    .dataframe tbody tr th:only-of-type {\n",
       "        vertical-align: middle;\n",
       "    }\n",
       "\n",
       "    .dataframe tbody tr th {\n",
       "        vertical-align: top;\n",
       "    }\n",
       "\n",
       "    .dataframe thead th {\n",
       "        text-align: right;\n",
       "    }\n",
       "</style>\n",
       "<table border=\"1\" class=\"dataframe\">\n",
       "  <thead>\n",
       "    <tr style=\"text-align: right;\">\n",
       "      <th></th>\n",
       "      <th>Index</th>\n",
       "      <th>Name</th>\n",
       "      <th>User_Id</th>\n",
       "      <th>Platform</th>\n",
       "      <th>Year_of_Release</th>\n",
       "      <th>Genre</th>\n",
       "      <th>Publisher</th>\n",
       "      <th>NA_Sales</th>\n",
       "      <th>EU_Sales</th>\n",
       "      <th>JP_Sales</th>\n",
       "      <th>Other_Sales</th>\n",
       "      <th>Global_Sales</th>\n",
       "      <th>Critic_Score</th>\n",
       "      <th>Critic_Count</th>\n",
       "      <th>User_Score</th>\n",
       "      <th>User_Count</th>\n",
       "      <th>Rating</th>\n",
       "    </tr>\n",
       "  </thead>\n",
       "  <tbody>\n",
       "    <tr>\n",
       "      <th>0</th>\n",
       "      <td>0</td>\n",
       "      <td>Wii Sports</td>\n",
       "      <td>10240</td>\n",
       "      <td>Wii</td>\n",
       "      <td>2006</td>\n",
       "      <td>Sports</td>\n",
       "      <td>Nintendo</td>\n",
       "      <td>41.36</td>\n",
       "      <td>28.96</td>\n",
       "      <td>3.77</td>\n",
       "      <td>8.45</td>\n",
       "      <td>82.54</td>\n",
       "      <td>76</td>\n",
       "      <td>51</td>\n",
       "      <td>8.0</td>\n",
       "      <td>324</td>\n",
       "      <td>E</td>\n",
       "    </tr>\n",
       "    <tr>\n",
       "      <th>1</th>\n",
       "      <td>1</td>\n",
       "      <td>Super Mario Bros.</td>\n",
       "      <td>10258</td>\n",
       "      <td>NES</td>\n",
       "      <td>1985</td>\n",
       "      <td>Platform</td>\n",
       "      <td>Nintendo</td>\n",
       "      <td>29.08</td>\n",
       "      <td>3.58</td>\n",
       "      <td>6.81</td>\n",
       "      <td>0.77</td>\n",
       "      <td>40.24</td>\n",
       "      <td>76</td>\n",
       "      <td>51</td>\n",
       "      <td>8.0</td>\n",
       "      <td>324</td>\n",
       "      <td>E</td>\n",
       "    </tr>\n",
       "    <tr>\n",
       "      <th>2</th>\n",
       "      <td>2</td>\n",
       "      <td>Mario Kart Wii</td>\n",
       "      <td>10268</td>\n",
       "      <td>Wii</td>\n",
       "      <td>2008</td>\n",
       "      <td>Racing</td>\n",
       "      <td>Nintendo</td>\n",
       "      <td>15.68</td>\n",
       "      <td>12.80</td>\n",
       "      <td>3.79</td>\n",
       "      <td>3.29</td>\n",
       "      <td>35.57</td>\n",
       "      <td>82</td>\n",
       "      <td>73</td>\n",
       "      <td>8.3</td>\n",
       "      <td>712</td>\n",
       "      <td>E</td>\n",
       "    </tr>\n",
       "    <tr>\n",
       "      <th>3</th>\n",
       "      <td>3</td>\n",
       "      <td>Wii Sports Resort</td>\n",
       "      <td>10253</td>\n",
       "      <td>Wii</td>\n",
       "      <td>2009</td>\n",
       "      <td>Sports</td>\n",
       "      <td>Nintendo</td>\n",
       "      <td>15.61</td>\n",
       "      <td>10.95</td>\n",
       "      <td>3.28</td>\n",
       "      <td>2.95</td>\n",
       "      <td>32.78</td>\n",
       "      <td>80</td>\n",
       "      <td>73</td>\n",
       "      <td>8.0</td>\n",
       "      <td>193</td>\n",
       "      <td>E</td>\n",
       "    </tr>\n",
       "    <tr>\n",
       "      <th>4</th>\n",
       "      <td>4</td>\n",
       "      <td>Pokemon Red/Pokemon Blue</td>\n",
       "      <td>10213</td>\n",
       "      <td>G</td>\n",
       "      <td>1996</td>\n",
       "      <td>Role-Playing</td>\n",
       "      <td>Nintendo</td>\n",
       "      <td>11.27</td>\n",
       "      <td>8.89</td>\n",
       "      <td>10.22</td>\n",
       "      <td>1.00</td>\n",
       "      <td>31.37</td>\n",
       "      <td>80</td>\n",
       "      <td>73</td>\n",
       "      <td>8.0</td>\n",
       "      <td>193</td>\n",
       "      <td>E</td>\n",
       "    </tr>\n",
       "  </tbody>\n",
       "</table>\n",
       "</div>"
      ],
      "text/plain": [
       "   Index                      Name  User_Id Platform  Year_of_Release  \\\n",
       "0      0                Wii Sports    10240      Wii             2006   \n",
       "1      1         Super Mario Bros.    10258      NES             1985   \n",
       "2      2            Mario Kart Wii    10268      Wii             2008   \n",
       "3      3         Wii Sports Resort    10253      Wii             2009   \n",
       "4      4  Pokemon Red/Pokemon Blue    10213        G             1996   \n",
       "\n",
       "          Genre Publisher  NA_Sales  EU_Sales  JP_Sales  Other_Sales  \\\n",
       "0        Sports  Nintendo     41.36     28.96      3.77         8.45   \n",
       "1      Platform  Nintendo     29.08      3.58      6.81         0.77   \n",
       "2        Racing  Nintendo     15.68     12.80      3.79         3.29   \n",
       "3        Sports  Nintendo     15.61     10.95      3.28         2.95   \n",
       "4  Role-Playing  Nintendo     11.27      8.89     10.22         1.00   \n",
       "\n",
       "   Global_Sales  Critic_Score  Critic_Count  User_Score  User_Count Rating  \n",
       "0         82.54            76            51         8.0         324      E  \n",
       "1         40.24            76            51         8.0         324      E  \n",
       "2         35.57            82            73         8.3         712      E  \n",
       "3         32.78            80            73         8.0         193      E  \n",
       "4         31.37            80            73         8.0         193      E  "
      ]
     },
     "execution_count": 39,
     "metadata": {},
     "output_type": "execute_result"
    }
   ],
   "source": [
    "df.head()"
   ]
  },
  {
   "cell_type": "code",
   "execution_count": 40,
   "id": "ae664a71",
   "metadata": {},
   "outputs": [],
   "source": [
    "df['Platform']=df['Platform'].astype(str)\n",
    "df['Genre']=df['Genre'].astype(str)\n",
    "df['Publisher']=df['Publisher'].astype(str)\n",
    "df['Rating']=df['Rating'].astype(str)"
   ]
  },
  {
   "cell_type": "code",
   "execution_count": 41,
   "id": "7698732e",
   "metadata": {},
   "outputs": [
    {
     "name": "stdout",
     "output_type": "stream",
     "text": [
      "<class 'pandas.core.frame.DataFrame'>\n",
      "RangeIndex: 17416 entries, 0 to 17415\n",
      "Data columns (total 17 columns):\n",
      " #   Column           Non-Null Count  Dtype  \n",
      "---  ------           --------------  -----  \n",
      " 0   Index            17416 non-null  int64  \n",
      " 1   Name             17416 non-null  object \n",
      " 2   User_Id          17416 non-null  int64  \n",
      " 3   Platform         17416 non-null  object \n",
      " 4   Year_of_Release  17416 non-null  int64  \n",
      " 5   Genre            17416 non-null  object \n",
      " 6   Publisher        17416 non-null  object \n",
      " 7   NA_Sales         17416 non-null  float64\n",
      " 8   EU_Sales         17416 non-null  float64\n",
      " 9   JP_Sales         17416 non-null  float64\n",
      " 10  Other_Sales      17416 non-null  float64\n",
      " 11  Global_Sales     17416 non-null  float64\n",
      " 12  Critic_Score     17416 non-null  int64  \n",
      " 13  Critic_Count     17416 non-null  int64  \n",
      " 14  User_Score       17416 non-null  float64\n",
      " 15  User_Count       17416 non-null  int64  \n",
      " 16  Rating           17416 non-null  object \n",
      "dtypes: float64(6), int64(6), object(5)\n",
      "memory usage: 2.3+ MB\n"
     ]
    }
   ],
   "source": [
    "df.info() #Dataset info"
   ]
  },
  {
   "cell_type": "code",
   "execution_count": 42,
   "id": "a8a13e0d",
   "metadata": {},
   "outputs": [],
   "source": [
    "df['combined_features'] = df[['Platform', 'Publisher', 'Genre', 'Rating']].apply(lambda x: ' '.join(x), axis=1)"
   ]
  },
  {
   "cell_type": "code",
   "execution_count": 43,
   "id": "c84140f4",
   "metadata": {},
   "outputs": [],
   "source": [
    "# Gettingcount of each word in the combined column\n",
    "cv = CountVectorizer()\n",
    "count_matrix = cv.fit_transform(df['combined_features'])"
   ]
  },
  {
   "cell_type": "code",
   "execution_count": 44,
   "id": "8543ef64",
   "metadata": {},
   "outputs": [],
   "source": [
    "cosine_sim = cosine_similarity(count_matrix)"
   ]
  },
  {
   "cell_type": "code",
   "execution_count": 45,
   "id": "a8d4c6c2",
   "metadata": {},
   "outputs": [],
   "source": [
    "def recommend_by_content(title, cosine_sim = cosine_sim):\n",
    "    recommended_games = []\n",
    "    idx = df[df['Name'] == title].index[0]\n",
    "    score_series = pd.Series(cosine_sim[idx]).sort_values(ascending = False)\n",
    "    top_20_indexes = list(score_series.iloc[1:21].index)\n",
    "    for i in top_20_indexes:\n",
    "        recommended_games.append(df['Name'][i])\n",
    "    return recommended_games"
   ]
  },
  {
   "cell_type": "code",
   "execution_count": 46,
   "id": "1aebd1b9",
   "metadata": {},
   "outputs": [],
   "source": [
    "# Loading the dataset\n",
    "reader = Reader()\n",
    "data = Dataset.load_from_df(df[['User_Id', 'Name', 'User_Score']], reader)"
   ]
  },
  {
   "cell_type": "code",
   "execution_count": 47,
   "id": "da88cdec",
   "metadata": {},
   "outputs": [
    {
     "data": {
      "text/plain": [
       "<surprise.prediction_algorithms.matrix_factorization.SVD at 0x1796da1f220>"
      ]
     },
     "execution_count": 47,
     "metadata": {},
     "output_type": "execute_result"
    }
   ],
   "source": [
    "# using the SVD algorithm to get the predictions\n",
    "svd = SVD()\n",
    "trainset = data.build_full_trainset()\n",
    "svd.fit(trainset)"
   ]
  },
  {
   "cell_type": "code",
   "execution_count": 48,
   "id": "cc937c2e",
   "metadata": {},
   "outputs": [],
   "source": [
    "def recommend_by_cf(user_id):\n",
    "    recommended_games = []\n",
    "    # Get the inner id of the user\n",
    "    user_inner_id = svd.trainset.to_inner_uid(user_id)\n",
    "    # Get the games that the user has rated\n",
    "    user_games = df[df['User_Id'] == user_id]\n",
    "    user_games_names = user_games['Name'].tolist()\n",
    "    all_games = df['Name'].unique()\n",
    "    #get the games that the user has not played\n",
    "    not_played_games = set(all_games) - set(user_games_names)\n",
    "    for game in not_played_games:\n",
    "        iid = svd.trainset.to_inner_iid(game)\n",
    "        # Predict the rating for the given user and game\n",
    "        user_rating = svd.predict(user_inner_id, iid)\n",
    "        # Append the game to the recommended games list if the estimated rating is greater than or equal to 6\n",
    "        if user_rating.est >= 6:\n",
    "            recommended_games.append(game)\n",
    "    return recommended_games"
   ]
  },
  {
   "cell_type": "code",
   "execution_count": 49,
   "id": "11068be9",
   "metadata": {},
   "outputs": [],
   "source": [
    "def recommend(user_id, title):\n",
    "    recommended_games_content = recommend_by_content(title)\n",
    "    recommended_games_cf = recommend_by_cf(user_id)\n",
    "    final_recommendation = list(set(recommended_games_content + recommended_games_cf))\n",
    "    return final_recommendation"
   ]
  },
  {
   "cell_type": "code",
   "execution_count": 51,
   "id": "ea8c237c",
   "metadata": {},
   "outputs": [
    {
     "name": "stdout",
     "output_type": "stream",
     "text": [
      "1. My Fitness Coach\n",
      "2. Punch-Out!!\n",
      "3. Wii Fit\n",
      "4. Cabelas Legendary Adventures\n",
      "5. Mario Tennis\n",
      "6. Tennis\n",
      "7. Mario Sports Mix\n",
      "8. New Play Control! Mario Power Tennis\n",
      "9. Active Health with Carol Vorderman\n",
      "10. Wii Sports Resort\n",
      "11. Super Swing Golf\n",
      "12. Mario Strikers Charged\n",
      "13. Remington Super Slam Hunting: North America\n",
      "14. Golf\n",
      "15. Wii Fit Plus\n",
      "16. Mario Super Sluggers\n",
      "17. Baseball\n"
     ]
    }
   ],
   "source": [
    "user_id = 10240\n",
    "title = \"Wii Sports\"\n",
    "output = recommend(user_id, title)\n",
    "\n",
    "for i, game in enumerate(output, 1):\n",
    "    print(f\"{i}. {game}\")"
   ]
  },
  {
   "cell_type": "code",
   "execution_count": 52,
   "id": "80c4ffaa",
   "metadata": {},
   "outputs": [],
   "source": [
    "train_data, test_data = train_test_split(data, test_size=0.2)"
   ]
  },
  {
   "cell_type": "code",
   "execution_count": 53,
   "id": "ac6677c8",
   "metadata": {},
   "outputs": [],
   "source": [
    "svd = SVD()"
   ]
  },
  {
   "cell_type": "code",
   "execution_count": 54,
   "id": "8143c4e2",
   "metadata": {},
   "outputs": [
    {
     "data": {
      "text/plain": [
       "<surprise.prediction_algorithms.matrix_factorization.SVD at 0x1796b8a03d0>"
      ]
     },
     "execution_count": 54,
     "metadata": {},
     "output_type": "execute_result"
    }
   ],
   "source": [
    "svd.fit(train_data)"
   ]
  },
  {
   "cell_type": "code",
   "execution_count": 55,
   "id": "2b9ba0f8",
   "metadata": {},
   "outputs": [],
   "source": [
    "predictions = svd.test(test_data)"
   ]
  },
  {
   "cell_type": "code",
   "execution_count": 56,
   "id": "83dd6b57",
   "metadata": {},
   "outputs": [
    {
     "name": "stdout",
     "output_type": "stream",
     "text": [
      "RMSE: 2.5537\n"
     ]
    },
    {
     "data": {
      "text/plain": [
       "2.553674300601176"
      ]
     },
     "execution_count": 56,
     "metadata": {},
     "output_type": "execute_result"
    }
   ],
   "source": [
    "accuracy.rmse(predictions)"
   ]
  },
  {
   "cell_type": "code",
   "execution_count": 57,
   "id": "75dcd04e",
   "metadata": {},
   "outputs": [
    {
     "name": "stdout",
     "output_type": "stream",
     "text": [
      "MAE:  2.3063\n"
     ]
    },
    {
     "data": {
      "text/plain": [
       "2.3063359834454347"
      ]
     },
     "execution_count": 57,
     "metadata": {},
     "output_type": "execute_result"
    }
   ],
   "source": [
    "accuracy.mae(predictions)"
   ]
  },
  {
   "cell_type": "code",
   "execution_count": null,
   "id": "a342ff85",
   "metadata": {},
   "outputs": [],
   "source": []
  }
 ],
 "metadata": {
  "kernelspec": {
   "display_name": "Python 3",
   "language": "python",
   "name": "python3"
  },
  "language_info": {
   "codemirror_mode": {
    "name": "ipython",
    "version": 3
   },
   "file_extension": ".py",
   "mimetype": "text/x-python",
   "name": "python",
   "nbconvert_exporter": "python",
   "pygments_lexer": "ipython3",
   "version": "3.8.8"
  }
 },
 "nbformat": 4,
 "nbformat_minor": 5
}
