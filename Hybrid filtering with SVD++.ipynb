{
 "cells": [
  {
   "cell_type": "code",
   "execution_count": 41,
   "id": "22032115",
   "metadata": {},
   "outputs": [],
   "source": [
    "import pandas as pd\n",
    "import numpy as np\n",
    "from matplotlib import pyplot as plt\n",
    "import seaborn as sns\n",
    "import difflib\n",
    "from sklearn import linear_model\n",
    "from sklearn.feature_extraction.text import TfidfVectorizer\n",
    "from sklearn.metrics.pairwise import cosine_similarity\n",
    "from sklearn.metrics.pairwise import linear_kernel\n",
    "from sklearn.feature_extraction.text import CountVectorizer\n",
    "from surprise import Reader, Dataset\n",
    "from surprise import SVD\n",
    "from surprise import SVDpp\n",
    "from surprise import accuracy\n",
    "from surprise.model_selection import train_test_split"
   ]
  },
  {
   "cell_type": "code",
   "execution_count": 42,
   "id": "47765efe",
   "metadata": {},
   "outputs": [],
   "source": [
    "df = pd.read_excel(r'C:\\4) Fourth Year\\Capstone\\Game analysis Dataset\\Metacritic Data\\Video_Game_Sales.xlsx')"
   ]
  },
  {
   "cell_type": "code",
   "execution_count": 43,
   "id": "79c049d3",
   "metadata": {},
   "outputs": [
    {
     "data": {
      "text/html": [
       "<div>\n",
       "<style scoped>\n",
       "    .dataframe tbody tr th:only-of-type {\n",
       "        vertical-align: middle;\n",
       "    }\n",
       "\n",
       "    .dataframe tbody tr th {\n",
       "        vertical-align: top;\n",
       "    }\n",
       "\n",
       "    .dataframe thead th {\n",
       "        text-align: right;\n",
       "    }\n",
       "</style>\n",
       "<table border=\"1\" class=\"dataframe\">\n",
       "  <thead>\n",
       "    <tr style=\"text-align: right;\">\n",
       "      <th></th>\n",
       "      <th>Index</th>\n",
       "      <th>Name</th>\n",
       "      <th>User_Id</th>\n",
       "      <th>Platform</th>\n",
       "      <th>Year_of_Release</th>\n",
       "      <th>Genre</th>\n",
       "      <th>Publisher</th>\n",
       "      <th>NA_Sales</th>\n",
       "      <th>EU_Sales</th>\n",
       "      <th>JP_Sales</th>\n",
       "      <th>Other_Sales</th>\n",
       "      <th>Global_Sales</th>\n",
       "      <th>Critic_Score</th>\n",
       "      <th>Critic_Count</th>\n",
       "      <th>User_Score</th>\n",
       "      <th>User_Count</th>\n",
       "      <th>Rating</th>\n",
       "    </tr>\n",
       "  </thead>\n",
       "  <tbody>\n",
       "    <tr>\n",
       "      <th>0</th>\n",
       "      <td>0</td>\n",
       "      <td>Wii Sports</td>\n",
       "      <td>10240</td>\n",
       "      <td>Wii</td>\n",
       "      <td>2006</td>\n",
       "      <td>Sports</td>\n",
       "      <td>Nintendo</td>\n",
       "      <td>41.36</td>\n",
       "      <td>28.96</td>\n",
       "      <td>3.77</td>\n",
       "      <td>8.45</td>\n",
       "      <td>82.54</td>\n",
       "      <td>76</td>\n",
       "      <td>51</td>\n",
       "      <td>8.0</td>\n",
       "      <td>324</td>\n",
       "      <td>E</td>\n",
       "    </tr>\n",
       "    <tr>\n",
       "      <th>1</th>\n",
       "      <td>1</td>\n",
       "      <td>Super Mario Bros.</td>\n",
       "      <td>10258</td>\n",
       "      <td>NES</td>\n",
       "      <td>1985</td>\n",
       "      <td>Platform</td>\n",
       "      <td>Nintendo</td>\n",
       "      <td>29.08</td>\n",
       "      <td>3.58</td>\n",
       "      <td>6.81</td>\n",
       "      <td>0.77</td>\n",
       "      <td>40.24</td>\n",
       "      <td>76</td>\n",
       "      <td>51</td>\n",
       "      <td>8.0</td>\n",
       "      <td>324</td>\n",
       "      <td>E</td>\n",
       "    </tr>\n",
       "    <tr>\n",
       "      <th>2</th>\n",
       "      <td>2</td>\n",
       "      <td>Mario Kart Wii</td>\n",
       "      <td>10268</td>\n",
       "      <td>Wii</td>\n",
       "      <td>2008</td>\n",
       "      <td>Racing</td>\n",
       "      <td>Nintendo</td>\n",
       "      <td>15.68</td>\n",
       "      <td>12.80</td>\n",
       "      <td>3.79</td>\n",
       "      <td>3.29</td>\n",
       "      <td>35.57</td>\n",
       "      <td>82</td>\n",
       "      <td>73</td>\n",
       "      <td>8.3</td>\n",
       "      <td>712</td>\n",
       "      <td>E</td>\n",
       "    </tr>\n",
       "    <tr>\n",
       "      <th>3</th>\n",
       "      <td>3</td>\n",
       "      <td>Wii Sports Resort</td>\n",
       "      <td>10253</td>\n",
       "      <td>Wii</td>\n",
       "      <td>2009</td>\n",
       "      <td>Sports</td>\n",
       "      <td>Nintendo</td>\n",
       "      <td>15.61</td>\n",
       "      <td>10.95</td>\n",
       "      <td>3.28</td>\n",
       "      <td>2.95</td>\n",
       "      <td>32.78</td>\n",
       "      <td>80</td>\n",
       "      <td>73</td>\n",
       "      <td>8.0</td>\n",
       "      <td>193</td>\n",
       "      <td>E</td>\n",
       "    </tr>\n",
       "    <tr>\n",
       "      <th>4</th>\n",
       "      <td>4</td>\n",
       "      <td>Pokemon Red/Pokemon Blue</td>\n",
       "      <td>10213</td>\n",
       "      <td>G</td>\n",
       "      <td>1996</td>\n",
       "      <td>Role-Playing</td>\n",
       "      <td>Nintendo</td>\n",
       "      <td>11.27</td>\n",
       "      <td>8.89</td>\n",
       "      <td>10.22</td>\n",
       "      <td>1.00</td>\n",
       "      <td>31.37</td>\n",
       "      <td>80</td>\n",
       "      <td>73</td>\n",
       "      <td>8.0</td>\n",
       "      <td>193</td>\n",
       "      <td>E</td>\n",
       "    </tr>\n",
       "  </tbody>\n",
       "</table>\n",
       "</div>"
      ],
      "text/plain": [
       "   Index                      Name  User_Id Platform  Year_of_Release  \\\n",
       "0      0                Wii Sports    10240      Wii             2006   \n",
       "1      1         Super Mario Bros.    10258      NES             1985   \n",
       "2      2            Mario Kart Wii    10268      Wii             2008   \n",
       "3      3         Wii Sports Resort    10253      Wii             2009   \n",
       "4      4  Pokemon Red/Pokemon Blue    10213        G             1996   \n",
       "\n",
       "          Genre Publisher  NA_Sales  EU_Sales  JP_Sales  Other_Sales  \\\n",
       "0        Sports  Nintendo     41.36     28.96      3.77         8.45   \n",
       "1      Platform  Nintendo     29.08      3.58      6.81         0.77   \n",
       "2        Racing  Nintendo     15.68     12.80      3.79         3.29   \n",
       "3        Sports  Nintendo     15.61     10.95      3.28         2.95   \n",
       "4  Role-Playing  Nintendo     11.27      8.89     10.22         1.00   \n",
       "\n",
       "   Global_Sales  Critic_Score  Critic_Count  User_Score  User_Count Rating  \n",
       "0         82.54            76            51         8.0         324      E  \n",
       "1         40.24            76            51         8.0         324      E  \n",
       "2         35.57            82            73         8.3         712      E  \n",
       "3         32.78            80            73         8.0         193      E  \n",
       "4         31.37            80            73         8.0         193      E  "
      ]
     },
     "execution_count": 43,
     "metadata": {},
     "output_type": "execute_result"
    }
   ],
   "source": [
    "df.head()"
   ]
  },
  {
   "cell_type": "code",
   "execution_count": 44,
   "id": "8d601341",
   "metadata": {},
   "outputs": [],
   "source": [
    "df['Platform']=df['Platform'].astype(str)\n",
    "df['Genre']=df['Genre'].astype(str)\n",
    "df['Publisher']=df['Publisher'].astype(str)\n",
    "df['Rating']=df['Rating'].astype(str)"
   ]
  },
  {
   "cell_type": "code",
   "execution_count": 45,
   "id": "74daa6a3",
   "metadata": {},
   "outputs": [
    {
     "name": "stdout",
     "output_type": "stream",
     "text": [
      "<class 'pandas.core.frame.DataFrame'>\n",
      "RangeIndex: 17416 entries, 0 to 17415\n",
      "Data columns (total 17 columns):\n",
      " #   Column           Non-Null Count  Dtype  \n",
      "---  ------           --------------  -----  \n",
      " 0   Index            17416 non-null  int64  \n",
      " 1   Name             17416 non-null  object \n",
      " 2   User_Id          17416 non-null  int64  \n",
      " 3   Platform         17416 non-null  object \n",
      " 4   Year_of_Release  17416 non-null  int64  \n",
      " 5   Genre            17416 non-null  object \n",
      " 6   Publisher        17416 non-null  object \n",
      " 7   NA_Sales         17416 non-null  float64\n",
      " 8   EU_Sales         17416 non-null  float64\n",
      " 9   JP_Sales         17416 non-null  float64\n",
      " 10  Other_Sales      17416 non-null  float64\n",
      " 11  Global_Sales     17416 non-null  float64\n",
      " 12  Critic_Score     17416 non-null  int64  \n",
      " 13  Critic_Count     17416 non-null  int64  \n",
      " 14  User_Score       17416 non-null  float64\n",
      " 15  User_Count       17416 non-null  int64  \n",
      " 16  Rating           17416 non-null  object \n",
      "dtypes: float64(6), int64(6), object(5)\n",
      "memory usage: 2.3+ MB\n"
     ]
    }
   ],
   "source": [
    "df.info()"
   ]
  },
  {
   "cell_type": "code",
   "execution_count": 46,
   "id": "1f02a27b",
   "metadata": {},
   "outputs": [],
   "source": [
    "df['combined_features'] = df[['Platform', 'Publisher', 'Genre', 'Rating']].apply(lambda x: ' '.join(x), axis=1)"
   ]
  },
  {
   "cell_type": "code",
   "execution_count": 47,
   "id": "10e30405",
   "metadata": {},
   "outputs": [],
   "source": [
    "# Gettingcount of each word in the combined column\n",
    "cv = CountVectorizer()\n",
    "count_matrix = cv.fit_transform(df['combined_features'])"
   ]
  },
  {
   "cell_type": "code",
   "execution_count": 48,
   "id": "8b6d0c24",
   "metadata": {},
   "outputs": [],
   "source": [
    "cosine_sim = cosine_similarity(count_matrix)"
   ]
  },
  {
   "cell_type": "code",
   "execution_count": 49,
   "id": "b9061f64",
   "metadata": {},
   "outputs": [],
   "source": [
    "def recommend_by_content(title, cosine_sim = cosine_sim):\n",
    "    recommended_games = []\n",
    "    idx = df[df['Name'] == title].index[0]\n",
    "    score_series = pd.Series(cosine_sim[idx]).sort_values(ascending = False)\n",
    "    top_20_indexes = list(score_series.iloc[1:21].index)\n",
    "    for i in top_20_indexes:\n",
    "        recommended_games.append(df['Name'][i])\n",
    "    return recommended_games"
   ]
  },
  {
   "cell_type": "code",
   "execution_count": 50,
   "id": "b4c07532",
   "metadata": {},
   "outputs": [],
   "source": [
    "# Loading the dataset\n",
    "reader = Reader()\n",
    "data = Dataset.load_from_df(df[['User_Id', 'Name', 'User_Score']], reader)"
   ]
  },
  {
   "cell_type": "code",
   "execution_count": 51,
   "id": "a7db7e3e",
   "metadata": {},
   "outputs": [
    {
     "data": {
      "text/plain": [
       "<surprise.prediction_algorithms.matrix_factorization.SVDpp at 0x179530ec6d0>"
      ]
     },
     "execution_count": 51,
     "metadata": {},
     "output_type": "execute_result"
    }
   ],
   "source": [
    "svdpp = SVDpp()\n",
    "trainset = data.build_full_trainset()\n",
    "svdpp.fit(trainset)"
   ]
  },
  {
   "cell_type": "code",
   "execution_count": 52,
   "id": "abc9f031",
   "metadata": {},
   "outputs": [],
   "source": [
    "def recommend_by_cf(user_id):\n",
    "    recommended_games = []\n",
    "    # Get the inner id of the user\n",
    "    user_inner_id = svdpp.trainset.to_inner_uid(user_id)\n",
    "    # Get the games that the user has rated\n",
    "    user_games = df[df['User_Id'] == user_id]\n",
    "    user_games_names = user_games['Name'].tolist()\n",
    "    all_games = df['Name'].unique()\n",
    "    # Get the games that the user has not played\n",
    "    not_played_games = set(all_games) - set(user_games_names)\n",
    "    for game in not_played_games:\n",
    "        iid = svdpp.trainset.to_inner_iid(game)\n",
    "        # Predict the rating for the given user and game\n",
    "        user_rating = svdpp.predict(user_inner_id, iid)\n",
    "        # Append the game to the recommended games list if the estimated rating is greater than or equal to 6\n",
    "        if user_rating.est >= 6:\n",
    "            recommended_games.append(game)\n",
    "    return recommended_games"
   ]
  },
  {
   "cell_type": "code",
   "execution_count": 53,
   "id": "2687e63b",
   "metadata": {},
   "outputs": [],
   "source": [
    "def recommend(user_id, title):\n",
    "    recommended_games_content = recommend_by_content(title)\n",
    "    recommended_games_cf = recommend_by_cf(user_id)\n",
    "    final_recommendation = list(set(recommended_games_content + recommended_games_cf))\n",
    "    \n",
    "    # predict ratings for the recommended games using SVDpp\n",
    "    predicted_ratings = {}\n",
    "    for game in final_recommendation:\n",
    "        iid = svdpp.trainset.to_inner_iid(game)\n",
    "        user_rating = svdpp.predict(user_id, iid)\n",
    "        predicted_ratings[game] = user_rating.est\n",
    "    sorted_ratings = sorted(predicted_ratings.items(), key=lambda x: x[1], reverse=True)\n",
    "    recommended_games_svdpp = [x[0] for x in sorted_ratings]\n",
    "    \n",
    "    # combine the three recommendation lists and remove duplicates\n",
    "    final_recommendation = list(set(recommended_games_content + recommended_games_cf + recommended_games_svdpp))\n",
    "    return final_recommendation[:20]"
   ]
  },
  {
   "cell_type": "code",
   "execution_count": 54,
   "id": "664741d4",
   "metadata": {},
   "outputs": [
    {
     "name": "stdout",
     "output_type": "stream",
     "text": [
      "1. Active Health with Carol Vorderman\n",
      "2. Punch-Out!!\n",
      "3. Mario Strikers Charged\n",
      "4. Mario Super Sluggers\n",
      "5. Baseball\n",
      "6. Remington Super Slam Hunting: North America\n",
      "7. Mario Sports Mix\n",
      "8. Wii Sports Resort\n",
      "9. Mario Tennis\n",
      "10. Cabelas Legendary Adventures\n",
      "11. Tennis\n",
      "12. New Play Control! Mario Power Tennis\n",
      "13. Wii Fit Plus\n",
      "14. Super Swing Golf\n",
      "15. My Fitness Coach\n",
      "16. Golf\n",
      "17. Wii Fit\n"
     ]
    }
   ],
   "source": [
    "user_id = 10240\n",
    "title = \"Wii Sports\"\n",
    "output = recommend(user_id, title)\n",
    "for i, game in enumerate(output, 1):\n",
    "    print(f\"{i}. {game}\")"
   ]
  },
  {
   "cell_type": "code",
   "execution_count": 55,
   "id": "18ec583a",
   "metadata": {},
   "outputs": [],
   "source": [
    "trainset, testset = train_test_split(data, test_size=0.2)"
   ]
  },
  {
   "cell_type": "code",
   "execution_count": 56,
   "id": "eafce119",
   "metadata": {},
   "outputs": [],
   "source": [
    "svdpp = SVDpp()"
   ]
  },
  {
   "cell_type": "code",
   "execution_count": 57,
   "id": "606567e4",
   "metadata": {},
   "outputs": [
    {
     "data": {
      "text/plain": [
       "<surprise.prediction_algorithms.matrix_factorization.SVDpp at 0x17958587d90>"
      ]
     },
     "execution_count": 57,
     "metadata": {},
     "output_type": "execute_result"
    }
   ],
   "source": [
    "svdpp.fit(trainset)"
   ]
  },
  {
   "cell_type": "code",
   "execution_count": 58,
   "id": "dfbd866a",
   "metadata": {},
   "outputs": [],
   "source": [
    "predictions = svdpp.test(testset)"
   ]
  },
  {
   "cell_type": "code",
   "execution_count": 59,
   "id": "a3ec0fbf",
   "metadata": {},
   "outputs": [
    {
     "name": "stdout",
     "output_type": "stream",
     "text": [
      "RMSE: 2.5361\n"
     ]
    },
    {
     "data": {
      "text/plain": [
       "2.536120212863274"
      ]
     },
     "execution_count": 59,
     "metadata": {},
     "output_type": "execute_result"
    }
   ],
   "source": [
    "accuracy.rmse(predictions)"
   ]
  },
  {
   "cell_type": "code",
   "execution_count": 60,
   "id": "23ce7dfd",
   "metadata": {},
   "outputs": [
    {
     "name": "stdout",
     "output_type": "stream",
     "text": [
      "MAE:  2.2877\n"
     ]
    },
    {
     "data": {
      "text/plain": [
       "2.2877243012938226"
      ]
     },
     "execution_count": 60,
     "metadata": {},
     "output_type": "execute_result"
    }
   ],
   "source": [
    "accuracy.mae(predictions)"
   ]
  },
  {
   "cell_type": "code",
   "execution_count": null,
   "id": "3b54bc29",
   "metadata": {},
   "outputs": [],
   "source": []
  }
 ],
 "metadata": {
  "kernelspec": {
   "display_name": "Python 3",
   "language": "python",
   "name": "python3"
  },
  "language_info": {
   "codemirror_mode": {
    "name": "ipython",
    "version": 3
   },
   "file_extension": ".py",
   "mimetype": "text/x-python",
   "name": "python",
   "nbconvert_exporter": "python",
   "pygments_lexer": "ipython3",
   "version": "3.8.8"
  }
 },
 "nbformat": 4,
 "nbformat_minor": 5
}
